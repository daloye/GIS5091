{
 "cells": [
  {
   "cell_type": "code",
   "execution_count": null,
   "metadata": {},
   "outputs": [],
   "source": [
    "from arcgis.gis import GIS\n",
    "gis = GIS(\"https://slustl.maps.arcgis.com/home\", \"ahmadaldalawi_slustl\")\n"
   ]
  },
  {
   "cell_type": "code",
   "execution_count": 14,
   "metadata": {},
   "outputs": [],
   "source": [
    "from arcgis.gis import *\n"
   ]
  },
  {
   "cell_type": "code",
   "execution_count": 15,
   "metadata": {},
   "outputs": [
    {
     "data": {
      "text/plain": [
       "[<User username:abehera_SLUSTL>,\n",
       " <User username:abrok_SLU>,\n",
       " <User username:abudureheman.taiwaikuli_SLUSTL>,\n",
       " <User username:adrianjc>,\n",
       " <User username:ahmadaldalawi_slustl>,\n",
       " <User username:alexandra.johnson_SLUSTL>,\n",
       " <User username:areeves8_SLUSTL>,\n",
       " <User username:armbrees_SLUSTL>,\n",
       " <User username:baerah>,\n",
       " <User username:beitschermr>,\n",
       " <User username:blissmc>,\n",
       " <User username:breneman_SLUSTL>,\n",
       " <User username:brinkleykj5>,\n",
       " <User username:bsiracuse>,\n",
       " <User username:buerckjp>,\n",
       " <User username:chris.prener_SLUSTL>,\n",
       " <User username:chuanfeng_slustl>,\n",
       " <User username:coffinsl>,\n",
       " <User username:corey.grejtakheaps>,\n",
       " <User username:cotag_SLU>,\n",
       " <User username:crawfordtw_SLUSTL>,\n",
       " <User username:cuaycongy_SLUSTL>,\n",
       " <User username:david.ridge>,\n",
       " <User username:delpt_SLU>,\n",
       " <User username:dianatid>,\n",
       " <User username:dmhall_SLUSTL>,\n",
       " <User username:edmundsonns>,\n",
       " <User username:emmaleeblackwood>,\n",
       " <User username:femmermd_SLUSTL>,\n",
       " <User username:flanaganm>,\n",
       " <User username:fogelns>,\n",
       " <User username:fredrickha>,\n",
       " <User username:gchadala>,\n",
       " <User username:gilberpg_slu>,\n",
       " <User username:gregbrunner_slugis>,\n",
       " <User username:hamilljc_SLUSTL>,\n",
       " <User username:haretr_SLUSTL>,\n",
       " <User username:heinemannpd>,\n",
       " <User username:hermannscl>,\n",
       " <User username:huttiet>,\n",
       " <User username:ilopezba_SLUSTL>,\n",
       " <User username:jake.brinkman>,\n",
       " <User username:jbesser>,\n",
       " <User username:jesnstevens>,\n",
       " <User username:jlovato12>,\n",
       " <User username:jsandov3@slu.edu>,\n",
       " <User username:jtchin>,\n",
       " <User username:kevineblimit_slustl>,\n",
       " <User username:kirlinb>,\n",
       " <User username:kostielneymi>,\n",
       " <User username:laurenlovato_slustl>,\n",
       " <User username:lbernett_SLUSTL>,\n",
       " <User username:Leard_SLUSTL>,\n",
       " <User username:lockmillerka>,\n",
       " <User username:loganwilliams_slustl>,\n",
       " <User username:loniewskimg>,\n",
       " <User username:madisonbrown3>,\n",
       " <User username:mainhartmr>,\n",
       " <User username:matthewroark_slustl>,\n",
       " <User username:maxwellac>,\n",
       " <User username:mcnelson0>,\n",
       " <User username:megan.greathousegause_SLUSTL>,\n",
       " <User username:mmuell37_SLUSTL>,\n",
       " <User username:mschootm>,\n",
       " <User username:nandismith>,\n",
       " <User username:opusmbephd>,\n",
       " <User username:ottena>,\n",
       " <User username:pagliaro_slu>,\n",
       " <User username:red_catan>,\n",
       " <User username:reev6867_SLUSTL>,\n",
       " <User username:robertwurth_slustl>,\n",
       " <User username:roderzm>,\n",
       " <User username:sakowskimk>,\n",
       " <User username:schwarzkopfrl7>,\n",
       " <User username:shaughnessyar>,\n",
       " <User username:sspiegel_slu>,\n",
       " <User username:stephenSLU>,\n",
       " <User username:stluedu_SLUSTL>,\n",
       " <User username:SuePSC>,\n",
       " <User username:tara.mott_SLUSTL>,\n",
       " <User username:tongxu_SLUSTL>,\n",
       " <User username:txiao1_SLUSTL>,\n",
       " <User username:Tyritch>,\n",
       " <User username:wfmjr68>,\n",
       " <User username:yasen_SLUSTL>,\n",
       " <User username:yasena7>,\n",
       " <User username:yvonne.fisher_SLUSTL>]"
      ]
     },
     "execution_count": 15,
     "metadata": {},
     "output_type": "execute_result"
    }
   ],
   "source": [
    "gis.users.search('*')"
   ]
  },
  {
   "cell_type": "code",
   "execution_count": 16,
   "metadata": {},
   "outputs": [],
   "source": [
    "ahmad = gis.users.search('ahmad')[0]"
   ]
  },
  {
   "cell_type": "code",
   "execution_count": 17,
   "metadata": {},
   "outputs": [
    {
     "data": {
      "text/html": [
       "<div class=\"9item_container\" style=\"height: auto; overflow: hidden; border: 1px solid #cfcfcf; border-radius: 2px; background: #f6fafa; line-height: 1.21429em; padding: 10px;\">\n",
       "                    <div class=\"item_left\" style=\"width: 210px; float: left;\">\n",
       "                       <a href='https://SLUSTL.maps.arcgis.com/home/user.html?user=ahmadaldalawi_slustl' target='_blank'>\n",
       "                        <img src='https://SLUSTL.maps.arcgis.com/home/js/arcgisonline/css/images/no-user-thumb.jpg' class=\"itemThumbnail\">\n",
       "                       </a>\n",
       "                    </div>\n",
       "\n",
       "                    <div class=\"item_right\" style=\"float: none; width: auto; overflow: hidden;\">\n",
       "                        <a href='https://SLUSTL.maps.arcgis.com/home/user.html?user=ahmadaldalawi_slustl' target='_blank'><b>Ahmad Aldalawi</b>\n",
       "                        </a>\n",
       "                        <br/><br/><b>Bio</b>: \n",
       "                        <br/><b>First Name</b>: Ahmad\n",
       "                        <br/><b>Last Name</b>: Aldalawi\n",
       "                        <br/><b>Username</b>: ahmadaldalawi_slustl\n",
       "                        <br/><b>Joined</b>: March 07, 2018\n",
       "\n",
       "                    </div>\n",
       "                </div>\n",
       "                "
      ],
      "text/plain": [
       "<User username:ahmadaldalawi_slustl>"
      ]
     },
     "execution_count": 17,
     "metadata": {},
     "output_type": "execute_result"
    }
   ],
   "source": [
    "ahmad"
   ]
  },
  {
   "cell_type": "code",
   "execution_count": 22,
   "metadata": {},
   "outputs": [
    {
     "data": {
      "text/plain": [
       "True"
      ]
     },
     "execution_count": 22,
     "metadata": {},
     "output_type": "execute_result"
    }
   ],
   "source": [
    "ahmad.update(thumbnail='s-l300.jpg')"
   ]
  },
  {
   "cell_type": "code",
   "execution_count": 23,
   "metadata": {},
   "outputs": [
    {
     "data": {
      "text/html": [
       "<div class=\"9item_container\" style=\"height: auto; overflow: hidden; border: 1px solid #cfcfcf; border-radius: 2px; background: #f6fafa; line-height: 1.21429em; padding: 10px;\">\n",
       "                    <div class=\"item_left\" style=\"width: 210px; float: left;\">\n",
       "                       <a href='https://SLUSTL.maps.arcgis.com/home/user.html?user=ahmadaldalawi_slustl' target='_blank'>\n",
       "                        <img src='data:image/png;base64,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' width='200' height='133' class=\"itemThumbnail\">\n",
       "                       </a>\n",
       "                    </div>\n",
       "\n",
       "                    <div class=\"item_right\" style=\"float: none; width: auto; overflow: hidden;\">\n",
       "                        <a href='https://SLUSTL.maps.arcgis.com/home/user.html?user=ahmadaldalawi_slustl' target='_blank'><b>Ahmad Aldalawi</b>\n",
       "                        </a>\n",
       "                        <br/><br/><b>Bio</b>: \n",
       "                        <br/><b>First Name</b>: Ahmad\n",
       "                        <br/><b>Last Name</b>: Aldalawi\n",
       "                        <br/><b>Username</b>: ahmadaldalawi_slustl\n",
       "                        <br/><b>Joined</b>: March 07, 2018\n",
       "\n",
       "                    </div>\n",
       "                </div>\n",
       "                "
      ],
      "text/plain": [
       "<User username:ahmadaldalawi_slustl>"
      ]
     },
     "execution_count": 23,
     "metadata": {},
     "output_type": "execute_result"
    }
   ],
   "source": [
    "ahmad"
   ]
  },
  {
   "cell_type": "code",
   "execution_count": null,
   "metadata": {},
   "outputs": [],
   "source": []
  }
 ],
 "metadata": {
  "kernelspec": {
   "display_name": "Python 3",
   "language": "python",
   "name": "python3"
  },
  "language_info": {
   "codemirror_mode": {
    "name": "ipython",
    "version": 3
   },
   "file_extension": ".py",
   "mimetype": "text/x-python",
   "name": "python",
   "nbconvert_exporter": "python",
   "pygments_lexer": "ipython3",
   "version": "3.6.5"
  }
 },
 "nbformat": 4,
 "nbformat_minor": 2
}

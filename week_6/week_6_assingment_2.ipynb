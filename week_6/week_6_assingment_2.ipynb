{
 "cells": [
  {
   "cell_type": "markdown",
   "metadata": {},
   "source": [
    "# Week_6_Assingment_2"
   ]
  },
  {
   "cell_type": "code",
   "execution_count": 14,
   "metadata": {},
   "outputs": [
    {
     "name": "stdout",
     "output_type": "stream",
     "text": [
      "Enter password: ········\n"
     ]
    }
   ],
   "source": [
    "from arcgis.gis import GIS\n",
    "gis = GIS(\"https://slustl.maps.arcgis.com/home\", \"ahmadaldalawi_slustl\")"
   ]
  },
  {
   "cell_type": "code",
   "execution_count": 15,
   "metadata": {},
   "outputs": [],
   "source": [
    "from arcgis.gis import *\n"
   ]
  },
  {
   "cell_type": "code",
   "execution_count": 22,
   "metadata": {},
   "outputs": [
    {
     "data": {
      "text/plain": [
       "[<User username:abehera_SLUSTL>,\n",
       " <User username:abrok_SLU>,\n",
       " <User username:abudureheman.taiwaikuli_SLUSTL>,\n",
       " <User username:adrianjc>,\n",
       " <User username:ahmadaldalawi_slustl>,\n",
       " <User username:alexandra.johnson_SLUSTL>,\n",
       " <User username:areeves8_SLUSTL>,\n",
       " <User username:armbrees_SLUSTL>,\n",
       " <User username:awulamu_SLUSTL>,\n",
       " <User username:baerah>,\n",
       " <User username:beitschermr>,\n",
       " <User username:blissmc>,\n",
       " <User username:breneman_SLUSTL>,\n",
       " <User username:brinkleykj5>,\n",
       " <User username:bsiracuse>,\n",
       " <User username:buerckjp>,\n",
       " <User username:chris.prener_SLUSTL>,\n",
       " <User username:chuanfeng_slustl>,\n",
       " <User username:coffinsl>,\n",
       " <User username:corey.grejtakheaps>,\n",
       " <User username:cotag_SLU>,\n",
       " <User username:crawfordtw_SLUSTL>,\n",
       " <User username:cuaycongy_SLUSTL>,\n",
       " <User username:david.ridge>,\n",
       " <User username:delpt_SLU>,\n",
       " <User username:dianatid>,\n",
       " <User username:dmhall_SLUSTL>,\n",
       " <User username:edmundsonns>,\n",
       " <User username:emmaleeblackwood>,\n",
       " <User username:femmermd_SLUSTL>,\n",
       " <User username:flanaganm>,\n",
       " <User username:fogelns>,\n",
       " <User username:fredrickha>,\n",
       " <User username:gchadala>,\n",
       " <User username:gilberpg_slu>,\n",
       " <User username:gregbrunner_slugis>,\n",
       " <User username:hamilljc_SLUSTL>,\n",
       " <User username:haretr_SLUSTL>,\n",
       " <User username:heinemannpd>,\n",
       " <User username:hermannscl>,\n",
       " <User username:huttiet>,\n",
       " <User username:ilopezba_SLUSTL>,\n",
       " <User username:jake.brinkman>,\n",
       " <User username:jbesser>,\n",
       " <User username:jesnstevens>,\n",
       " <User username:jlovato12>,\n",
       " <User username:jsandov3@slu.edu>,\n",
       " <User username:jtchin>,\n",
       " <User username:kevineblimit_slustl>,\n",
       " <User username:kirlinb>,\n",
       " <User username:kostielneymi>,\n",
       " <User username:laurenlovato_slustl>,\n",
       " <User username:lbernett_SLUSTL>,\n",
       " <User username:Leard_SLUSTL>,\n",
       " <User username:lockmillerka>,\n",
       " <User username:loganwilliams_slustl>,\n",
       " <User username:loniewskimg>,\n",
       " <User username:madisonbrown3>,\n",
       " <User username:mainhartmr>,\n",
       " <User username:matthewroark_slustl>,\n",
       " <User username:maxwellac>,\n",
       " <User username:mcnelson0>,\n",
       " <User username:megan.greathousegause_SLUSTL>,\n",
       " <User username:mmuell37_SLUSTL>,\n",
       " <User username:mschootm>,\n",
       " <User username:nandismith>,\n",
       " <User username:opusmbephd>,\n",
       " <User username:ottena>,\n",
       " <User username:pagliaro_slu>,\n",
       " <User username:red_catan>,\n",
       " <User username:reev6867_SLUSTL>,\n",
       " <User username:robertwurth_slustl>,\n",
       " <User username:roderzm>,\n",
       " <User username:ryan.norrenberns_SLUSTL>,\n",
       " <User username:sakowskimk>,\n",
       " <User username:schwarzkopfrl7>,\n",
       " <User username:shaughnessyar>,\n",
       " <User username:sspiegel_slu>,\n",
       " <User username:stephenSLU>,\n",
       " <User username:stluedu_SLUSTL>,\n",
       " <User username:SuePSC>,\n",
       " <User username:syedaval>,\n",
       " <User username:tara.mott_SLUSTL>,\n",
       " <User username:tongxu_SLUSTL>,\n",
       " <User username:txiao1_SLUSTL>,\n",
       " <User username:Tyritch>,\n",
       " <User username:wfmjr68>,\n",
       " <User username:yasen_SLUSTL>,\n",
       " <User username:yasena7>,\n",
       " <User username:yvonne.fisher_SLUSTL>]"
      ]
     },
     "execution_count": 22,
     "metadata": {},
     "output_type": "execute_result"
    }
   ],
   "source": [
    "gis.users.search('*')"
   ]
  },
  {
   "cell_type": "code",
   "execution_count": 23,
   "metadata": {},
   "outputs": [],
   "source": [
    "ahmad = gis.users.search('ahmad')[0]"
   ]
  },
  {
   "cell_type": "code",
   "execution_count": 24,
   "metadata": {},
   "outputs": [
    {
     "data": {
      "text/html": [
       "<div class=\"9item_container\" style=\"height: auto; overflow: hidden; border: 1px solid #cfcfcf; border-radius: 2px; background: #f6fafa; line-height: 1.21429em; padding: 10px;\">\n",
       "                    <div class=\"item_left\" style=\"width: 210px; float: left;\">\n",
       "                       <a href='https://SLUSTL.maps.arcgis.com/home/user.html?user=ahmadaldalawi_slustl' target='_blank'>\n",
       "                        <img src='data:image/png;base64,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' width='200' height='133' class=\"itemThumbnail\">\n",
       "                       </a>\n",
       "                    </div>\n",
       "\n",
       "                    <div class=\"item_right\" style=\"float: none; width: auto; overflow: hidden;\">\n",
       "                        <a href='https://SLUSTL.maps.arcgis.com/home/user.html?user=ahmadaldalawi_slustl' target='_blank'><b>Ahmad Aldalawi</b>\n",
       "                        </a>\n",
       "                        <br/><br/><b>Bio</b>: \n",
       "                        <br/><b>First Name</b>: Ahmad\n",
       "                        <br/><b>Last Name</b>: Aldalawi\n",
       "                        <br/><b>Username</b>: ahmadaldalawi_slustl\n",
       "                        <br/><b>Joined</b>: March 07, 2018\n",
       "\n",
       "                    </div>\n",
       "                </div>\n",
       "                "
      ],
      "text/plain": [
       "<User username:ahmadaldalawi_slustl>"
      ]
     },
     "execution_count": 24,
     "metadata": {},
     "output_type": "execute_result"
    }
   ],
   "source": [
    "ahmad"
   ]
  },
  {
   "cell_type": "code",
   "execution_count": 25,
   "metadata": {},
   "outputs": [],
   "source": [
    "yvonne = gis.users.search('yvonne')[0]"
   ]
  },
  {
   "cell_type": "code",
   "execution_count": 26,
   "metadata": {},
   "outputs": [
    {
     "data": {
      "text/html": [
       "<div class=\"9item_container\" style=\"height: auto; overflow: hidden; border: 1px solid #cfcfcf; border-radius: 2px; background: #f6fafa; line-height: 1.21429em; padding: 10px;\">\n",
       "                    <div class=\"item_left\" style=\"width: 210px; float: left;\">\n",
       "                       <a href='https://SLUSTL.maps.arcgis.com/home/user.html?user=cuaycongy_SLUSTL' target='_blank'>\n",
       "                        <img src='data:image/png;base64,/9j/4AAQSkZJRgABAgAAAQABAAD/2wBDAAgGBgcGBQgHBwcJCQgKDBQNDAsLDBkSEw8UHRofHh0aHBwgJC4nICIsIxwcKDcpLDAxNDQ0Hyc5PTgyPC4zNDL/2wBDAQkJCQwLDBgNDRgyIRwhMjIyMjIyMjIyMjIyMjIyMjIyMjIyMjIyMjIyMjIyMjIyMjIyMjIyMjIyMjIyMjIyMjL/wAARCACWAJYDASIAAhEBAxEB/8QAHwAAAQUBAQEBAQEAAAAAAAAAAAECAwQFBgcICQoL/8QAtRAAAgEDAwIEAwUFBAQAAAF9AQIDAAQRBRIhMUEGE1FhByJxFDKBkaEII0KxwRVS0fAkM2JyggkKFhcYGRolJicoKSo0NTY3ODk6Q0RFRkdISUpTVFVWV1hZWmNkZWZnaGlqc3R1dnd4eXqDhIWGh4iJipKTlJWWl5iZmqKjpKWmp6ipqrKztLW2t7i5usLDxMXGx8jJytLT1NXW19jZ2uHi4+Tl5ufo6erx8vP09fb3+Pn6/8QAHwEAAwEBAQEBAQEBAQAAAAAAAAECAwQFBgcICQoL/8QAtREAAgECBAQDBAcFBAQAAQJ3AAECAxEEBSExBhJBUQdhcRMiMoEIFEKRobHBCSMzUvAVYnLRChYkNOEl8RcYGRomJygpKjU2Nzg5OkNERUZHSElKU1RVVldYWVpjZGVmZ2hpanN0dXZ3eHl6goOEhYaHiImKkpOUlZaXmJmaoqOkpaanqKmqsrO0tba3uLm6wsPExcbHyMnK0tPU1dbX2Nna4uPk5ebn6Onq8vP09fb3+Pn6/9oADAMBAAIRAxEAPwDvaKKKBBRRRQAUUhIUEkgAdSa5rU/iB4Z0kus2pxyyJ/BbjzMn0yPlz7E0AdNRWXoGv2PiTTft1h5oi3lCsq7WU4B5wSOhB4PetiBFkuIkdtqM4DN6DPWgCOirF9BHbXssMTFkU8EnParmjQWzGe5utpjgXO1hkEmgDLop8rK8ruqhFZiQo7D0plABRRWVrPiC10VP3ySSvt3lUKKFXOMszsqgE8DnJwcA4OADVorltG+IOgazdLaJO1vcM21EnKYc+gZWI57ZIJ7ZrqaACiiigAooooAKKKKACsHXvE9to8ckaFJLlB8wLYWIkZG4jnJ6hRyevA+YWfEOrjRtKedSvnv8kQZSw3YJJIHUAAnGRnGM5IrxbUL+S/nLMz+WCSqs245JyWJ7sTyT/TAppAX9c8R3utyMs07vBu3CM8LkdMIOBjkjOWGfvGvOrzbLqEojPyl8A/1re1O4MUAjjOJJeAfQdzWJp9ut7qlvb5IV3Cg0MEfSXgnTotM8H6bFFHsMsKzvnqWcbufoCB9AKwvFfjn7HvtdOfGAQ1wOSccHZkEYzkbuc4IA/iG34v1RdK0Ixx742m/dr5Q5RAMtz/DkDaD2Lqa8T1OW4viY1+aaYbB0AVAMHoMABRjgelCA9v8ABeoy6r4Tsb2dmaSVWZtxJx8x4yeSAOMnJ45JrerzbwF4s0/TdAlsNRu4reKwACMY2BcEszYAJLbeBwAfaui1bxxpNlp5ubO5hvSRw0T5jU/7TDOD/s9foMkIDrLYQtcILh2WHPzFRk0lwYTO5gVlhz8oY5IFcQnxAtLjw7bX8KItxMp3rIcrCQxU5xyxOCQo5IxkqORwus+J7rU3/eSNJGpLZnwV/CP7i47HBbj7xp2A9rEiM5QOpcfwg81538SwFlRmbG+KMr6EI0m79ZU/OuL8G3l5rPjiwihlneCCQSNySpCkMc+gwCB7kDvXXfF6VY7WxX+J7a6X8N0B/pQB5XqljjN3bjDLy4A6+/8AjXqPw18ftqYTRdVlJuAMW8zHJf8A2GPr6Hv0PON3DWDtqOiLdMAZoMJMePnUnCv9cgqf+Anksa5q4R9L1MPFkAHchBxx9fUev40AfVtFc14H8TL4m0BJncNeQYS46Asez4HTdg+2QwHSulpAFFFFABRRWdrl69hpE8sLKs7ARxMx4Vm4DH1C8sR6KaAPOvHmsG8v2hQsI1zEnzcFVb5jj/adcfSJT3rjKnvJ1uLp3jTZEMLGmc7UAwo/AAVWkcRRvI33VBJ/CqEYGq3G+5kweF/drj82/wAKq6dO1tqEEyAFkbIz60y5Y+YFJBIGTj1PJ/HnH4VYs9Iu7+DzbcRsN5TBkCnOM9/8ntUlHt3j29ivtK0y5tpD5F3bSOrFTyhaFxn06Dr3OK84DYDBVA3Y3HHJ9s+me3SnRz6gdIsLW988upfakjH92gYgjBHyncHyTnOV7ACpNTmtZtVeWwsvsNmwCpb+c023AHJduSTyT0HTjjlc8U1F7kt6lfGWBwOOlVb2xF1AyoSr9Rg8E+9W6u2slo2k3to2kR3V9cuqQ3TsWMCAqSETH3ywI3Zzg4HfLnNQV2Ddjm4Nc2RR29zEVEK7FEY4HrkepPJPc1VvdSe+YQwKyxnserfX2qTWtNNoROqlVZirA9m/zn8q7H4QRWE+vzm7gjd4LdpkeTohDpg46Z+Y8npgYpQmpq6Gmnqd18M/CDeHtJ+23kZW/ulHynOY064IPQngn6KOoNcZ8W9ahutaayhYN9kjEJ5/jY7nx7Y2D65rsfGvxK0/QrN7bSriG81JxhTGwdIf9piOCf8AZ/P38CmmkuJ5JpnaSSRizuxyWJ5JJ9aYHQ6BqUem3enNP/x6ziS3uATj92xAJ/A4b8Km8UaZJatNBID5trJgnGMr6/iMGudnkzbW0Y/hUk/Usf8AAV3l4P7T8NadqDA7zH9juD1G5R8p+pQgmmBnfDfxJ/YXiWBZpNtrOfKlyOAp7n0wcHPYBvWvoqvkYbrefnhkbBH0r6b8G6v/AG34UsLxpfMmCeXKx6ll4yfQkYb/AIFSA3qKKKACuA+I2oAJHaKrHy0DE9g0m5QR7hElB9pBXf15D42vHuL1tx5kuZm2f3VQiFfzMbH8aaA5SqmpNiyZAcGQhAT2yef0zVus/ViDbop9Wb8lP9SKbA52Rt8jN6kmt3wqxe8ntnljS2ePfIXJ+UjhWXAOSC3T0LdOowKdHI8MiyRuyOpyGU4IqRndR3i/bkN3PgNGIs4BwoxjjuBtHTnvz0M2pyQyNAIbr7SFXGfLZBGBwANwGc89uMd88cfb6iHAjvNzKDlZB1XPX8K6l7vRdTiOdHgjIPyzWVwYyo/u7WDZ+pJNZSpJ1FU7BGnGTu3Yr5/zipkvBHbqkKsJkcsZF+YBe2AOQc55PHTj0il0/RSvyx6gx9Hmjx/6LrNv7yz0+RVt9PRnI+YzzmQ/iAqj+dVUXOrOJqqNN/FNfj/kQX0l1eIyXE8ZijYtGFVST9SvYAevU9OSazbO4aCQlY43yOknQe9Pub2S8OWSCBP7sUYQfpyfxzUMSxeYC0oCA85U5IpxVlYmfInaGxJeXUlyw3yb8EnjoPYe3FVaDjPHSiqIFJzj2GK77wzN9p07U9KL/M1lHdxKem5PvY9yCB+FcBXS+Gb9LTxlpbyDMTBIH57Om0n8N2fwoAx9Vi8rUZcDhsMPx/8Ar1618F9UD2d/pjDBUrMn+0fut+Q8uvMvE1q9rqOx+ShaIn3UkGun+EN/9m8YJbHpcxvEPb5S/wD7TAoYj3yiiigBQMsB6nFeGeIrsXuoRzD+OFZD9XJk/wDZ69zU4YH0NfPEjF0t2PX7LAPyiQU0AyszWT/o4/3T/wChLWnWbrIza59iP1X/AApsEc7RRRUjCuvtbdLbT7WIJhxGJHJ7s3P4fKVH4Vz+jWsV5qsMc5PkAl5Md1UFiB7nGB7munkkaWV5HYs7sWYnuTyaaExvasLU9LMYaeDcy9WUnJHvW7QQCMEZHvTYHIH5rVeOVcgn6jj+RpqRSSFQiEljgYHU1evrb7BdHaMwydAf5fhXqdn8SdC0Pw5CujaMYb3aA8YjGz/aYsDuYfU59elSM8imsrq3IE1vJGW6BlwT9Kh2kJu7E4Fdv4h+JniLXLaSzmEFtaycNFDGRvGc8liT+RFc9bWup6lcRW9rZtMzgbV8gMeffH6/jQNJvRGRT0leOZJUOHQgqfQjpWhq2j3OmeS00RRZk3KQDg8kd+R0PB+vQisygGmnZnT+MpUub43MX+rmkaVPo2GH6EVL8N22+ONOYdRJ/MFf61R17/j0sh/0xhP/AJCWr3w2Uv4601R3kJ/IFv6UMk+kaKKKAHJy6j3r53kQxiGNuCtvCDn/AK5rX0N0NeG+JbdbfWpggwmSi/8AAGMf/slNAZFUNX/49B9T/wCgmr9Z2sSxCydC48zIKr368/oabA6XwR8K5fEVgmp6pPNa2Uh/dRxKPMlX+9k5CjPTg559ibni74beG9F02a5tdee3niQsLe6kR2lPZVChSDn2PrwBXmP2u58nyftEvldNm87fyp1lGJryGNvulufpUjNzREeBLl9mEkjVFz1wW3bvY/IB9Ca0KIv+Xr28n/2rTXJWNmHUAkVRIkMqzRLIn3WGRT6ytIul2fZHOGXmPP8AEDzWrQgKWpwC5sHIHzKN6/h1/SufjYmI4ba8fzKRwff+h/OumtnEsLdxvcfUbj/SucEYi1Boeo3mPJ9Dxmkxo19Bmub64j063jDSyyKFUbV3MTgcnGDnA/H616Np3hvxdaQNbQ2MMIkb5pWkTPPuCePwPrgmvNPB8Mk/i/SkiJDC7iOR/D845/DrX1DUOCbubxxE4x5Oh5N458DJZeHrGW0M91dxuY5CSTvypYEL0UBl47/NyT1ryC4tprWUxTxlHHBBr64ry34xaAs9hb6zDEPMjPlTMOpXBKk+www/4EPSqSsYuTbuzzDX2DW+n4/54Rj8okFdP8HrFbjxf9pb/l2heRPc42H9JK5HWiAbWIH7kQ/oP6V6z8GNJEGkXupup3zyLEhI6BRk49juX8VoEen0UUUAFeN+NbN7XWZs5KCeRVP+9ib+cxH4V7JXE+K9Al1jxFYWod1guhud0XPlCMNvPplt8SjryOhpoDzO20zUtWeS30u1a4nVDIyq6qQgIBI3cZ5HH+FZmuaNq0FmEl0LUbdY2yZHtm2Ad/m6GvfNC8M6f4ejuEszM5uMeY8zAsQAcDIA45J/E1keI7DQ9OhMkum3c0jDIaN3Cj6sSQPyP0obA+dhDITjbg+h4qzbWt1FMkyxEhGB6j16V6G7IXJiDKhPyhm3EfjgZ/Ko2UM8bMqSBHDmOVco+OzYwce4II7EUhmLE4aaaLhWMSykE8kKxGPr8+fwNK7BUZm6AEmr39mwLeLeLEDMsQjKB2VW+Tax53EE8n0BPAwMVA2j6jqNvqUdpAALW0kuneV1UGJMbtuCctg9PrVXFY4xuYUlQkMh2sQfxB/z6VKdTvWj8szsQRjoM/n1rpD4Ql0i9lWa+tLqWF1HlWrOwkV4hIjrJgJtO4KfmBGc4IrROmWgAB3ICQpdmkcLk43FRkkDrwCeOhqRmTp8Bt7GFGxkqH4/2uf5GsO+G3WGx/fU/wAq7C40jUFghNjBDeySRh/Ltp1cxBpViUNzkMWdML97DDIGDjn7HRbq7uftM3y5O7f2z6j1/Dj3psRe+Huq6Vo3imC81NJCq5COvIjY8biO4ALfpgZHPv6a/pEmNup2nPTMyjP5mvGLOyi06BorSOCMs+8TtbxvNGcY+R2UlexyOQQCCOasjqSO5LH6k5pDPbIp4Z13QyxyL6owYfpXP+PLUXngfVo9wUrD5oPuhDY/HGPxrzMctgfe9B1qLVUuo9NJdZkieRVLFSFPO4jP0U8UCOQubaXVNfjtLeNpHJWNVUcsSeAPckgfWvpPQ9LTRdEs9ORgwgjwzAYDMeWOO2WJOPevK/BHgzWjPFr8PlWpkYyQPNySDkbtuDxgnGcZzkcYNexoGCKHYMwA3EDAJ9cc4oAWiiigAo75oooAKOnSiigCCWxtLgkz2sEuf+ekYb+YrOm8LaJO25tPjU/9MyUH5KQK37VbZp8XTukePvIOQa4rxR44Oh61baNp2lT6rqM6bxDG23C847Hngk+gGc0AaB8G6Gelqw+krf41DJ4F0SQgmKYY5GJM4/MGm+G/Fr67p+oTXOkXenz2BImimBwTgnAJA545GOMj1pvgvxpb+MrW7kjtjbS2zqrRM+47WHDZwO4Yfh70AMf4f6VtPkz3URJJ+8pH5bajX4f2Wfnvbkj/AGQoP8jUlv44gvPFOq6FaWbzTWEDyB1cYldcZjAxwcnH4Vk6F8S7rWfEaaMfDV1BMHKz/vCxgAOCXXaMAEgHPrQBrP8AD7RnxumvTxjl0P1/gp8fgLSE6y3jj0aRcfoopPC/jIeJNX1ew+wm3/s+TZv83f5nzMM4wMfd9+tV/F/j1fC2qWenRaXLf3V0gdEjk2k5YqABgkkkHtQBqJ4P0NMZsy2P70r/AONaEOj6bbgCLT7VMdxEufzxmuTbxZrl14P13UJ9EudDuLOIG3M4LFyQckB0AwMDsetbfw4vbrX/AAnYX2rXoaaXzGklZVXhXYAAKAM4AoA3UAjGEAUei8VU1HS7HV0gTULZLhIJhNGr8gOAQCR34Y8HIq/L5fmv5W7y8nbu6496ZQAUUUUAFFFFABRRRQAUUUUAWITaCCTz1mMv8Gwjb+Oa4Xxf4PTXdUtr/TdU/s7XoIz5bq+DJGM5yAcgAtjcM9cEHIx2sXl+avmlhHn5tvXHtXI+KPAdl4h1WPVLe/vNOv4htS4gbJ2jpkZHPuCKAMPQvE2ty3ut+FfEaxSX9pZSOtzDgeYu0dccch1IOB3yM15z4U1ufwTdxarsEsV/YzBVxwHDMF78/Mi59mNeweH/AAFaaEdRnkv7q+v7+JopruY/NtbrjryTgkkn7oqtcfC/QrnQ7DSpZrzy7J5HjlV1DneQWB+XBHA7dqBnBfCSOdPHk7T58ySxaUk9SGKMD+IINb/g6J4/jV4oBGMxzt+BmjI/nXaWng7TbHxDc6zA86zT24tjEGAjRAqqNoAyOEHesfRfhbo2h6zbanb3l+81u25VkdCp4I5wo9aAMP4cXNtaeK/F5uLiGEG6wPNkC5+eTpms/wCJsT33xE8PJaXqW7zQQiK6D4EZMrYcEenBz7V0d58INDvtQuLya91HfPK0rhXQDLEk4+X3q7rPwz0jWotPjmur2MWNqtrFsZeVXoWyvJ59qAIo9E1Ffh/rWm3Otrq91LHIyTNLwoKDClmPAyCckgc1qeALOXT/AAPpltN5ZkRXz5ciuvLseGUkHr2NU9N+HOl6ZoGqaRFdXbQ6jt812K7125xgge9b3hPQ7XwnpcOnwF7qKN2c+efvFuvToKBGvOkSSbYpfNXH3tu3n6VHTnIZ2KrtUkkLnOB6U2gAooooAKKKKACiiigAooooAKKKKACiiigAooooAKKKKACiiigAooooAKKKKACiiigD/9k=' width='200' height='133' class=\"itemThumbnail\">\n",
       "                       </a>\n",
       "                    </div>\n",
       "\n",
       "                    <div class=\"item_right\" style=\"float: none; width: auto; overflow: hidden;\">\n",
       "                        <a href='https://SLUSTL.maps.arcgis.com/home/user.html?user=cuaycongy_SLUSTL' target='_blank'><b>Yvonne Fisher</b>\n",
       "                        </a>\n",
       "                        <br/><br/><b>Bio</b>: \n",
       "                        <br/><b>First Name</b>: Yvonne\n",
       "                        <br/><b>Last Name</b>: Fisher\n",
       "                        <br/><b>Username</b>: cuaycongy_SLUSTL\n",
       "                        <br/><b>Joined</b>: April 13, 2017\n",
       "\n",
       "                    </div>\n",
       "                </div>\n",
       "                "
      ],
      "text/plain": [
       "<User username:cuaycongy_SLUSTL>"
      ]
     },
     "execution_count": 26,
     "metadata": {},
     "output_type": "execute_result"
    }
   ],
   "source": [
    "yvonne"
   ]
  },
  {
   "cell_type": "code",
   "execution_count": 28,
   "metadata": {},
   "outputs": [
    {
     "data": {
      "text/html": [
       "<div class=\"9item_container\" style=\"height: auto; overflow: hidden; border: 1px solid #cfcfcf; border-radius: 2px; background: #f6fafa; line-height: 1.21429em; padding: 10px;\">\n",
       "                    <div class=\"item_left\" style=\"width: 210px; float: left;\">\n",
       "                       <a href='https://SLUSTL.maps.arcgis.com/home/group.html?id=3858668872b94cfaac9f900d656ab936' target='_blank'>\n",
       "                        <img src='https://SLUSTL.maps.arcgis.com/home/images/group-no-image.png' class=\"itemThumbnail\">\n",
       "                       </a>\n",
       "                    </div>\n",
       "\n",
       "                    <div class=\"item_right\" style=\"float: none; width: auto; overflow: hidden;\">\n",
       "                        <a href='https://SLUSTL.maps.arcgis.com/home/group.html?id=3858668872b94cfaac9f900d656ab936' target='_blank'><b>SLU GIS</b>\n",
       "                        </a>\n",
       "                        <br/>\n",
       "                        <br/><b>Summary</b>: None\n",
       "                        <br/><b>Description</b>: None\n",
       "                        <br/><b>Owner</b>: ahmadaldalawi_slustl\n",
       "                        <br/><b>Created</b>: October 16, 2018\n",
       "\n",
       "                    </div>\n",
       "                </div>\n",
       "                "
      ],
      "text/plain": [
       "<Group title:\"SLU GIS\" owner:ahmadaldalawi_slustl>"
      ]
     },
     "execution_count": 28,
     "metadata": {},
     "output_type": "execute_result"
    }
   ],
   "source": [
    "gis.groups.create(title='SLU GIS', access='org', tags='gis, python')"
   ]
  },
  {
   "cell_type": "code",
   "execution_count": 34,
   "metadata": {},
   "outputs": [],
   "source": [
    "student_group= gis.groups.create(title='Advance Python GIS & RS', access='org', tags='gis, python')\n"
   ]
  },
  {
   "cell_type": "code",
   "execution_count": 35,
   "metadata": {},
   "outputs": [
    {
     "data": {
      "text/html": [
       "<div class=\"9item_container\" style=\"height: auto; overflow: hidden; border: 1px solid #cfcfcf; border-radius: 2px; background: #f6fafa; line-height: 1.21429em; padding: 10px;\">\n",
       "                    <div class=\"item_left\" style=\"width: 210px; float: left;\">\n",
       "                       <a href='https://SLUSTL.maps.arcgis.com/home/group.html?id=cccf71adb30940978cf2cd9fee3b03a7' target='_blank'>\n",
       "                        <img src='https://SLUSTL.maps.arcgis.com/home/images/group-no-image.png' class=\"itemThumbnail\">\n",
       "                       </a>\n",
       "                    </div>\n",
       "\n",
       "                    <div class=\"item_right\" style=\"float: none; width: auto; overflow: hidden;\">\n",
       "                        <a href='https://SLUSTL.maps.arcgis.com/home/group.html?id=cccf71adb30940978cf2cd9fee3b03a7' target='_blank'><b>Advance Python GIS & RS</b>\n",
       "                        </a>\n",
       "                        <br/>\n",
       "                        <br/><b>Summary</b>: None\n",
       "                        <br/><b>Description</b>: None\n",
       "                        <br/><b>Owner</b>: ahmadaldalawi_slustl\n",
       "                        <br/><b>Created</b>: October 16, 2018\n",
       "\n",
       "                    </div>\n",
       "                </div>\n",
       "                "
      ],
      "text/plain": [
       "<Group title:\"Advance Python GIS & RS\" owner:ahmadaldalawi_slustl>"
      ]
     },
     "execution_count": 35,
     "metadata": {},
     "output_type": "execute_result"
    }
   ],
   "source": [
    "student_group"
   ]
  },
  {
   "cell_type": "code",
   "execution_count": 36,
   "metadata": {},
   "outputs": [],
   "source": [
    "student_group= gis.groups.create(title='Remote Sensnig Lab', access='org', tags='gis, python')"
   ]
  },
  {
   "cell_type": "code",
   "execution_count": 37,
   "metadata": {},
   "outputs": [
    {
     "data": {
      "text/html": [
       "<div class=\"9item_container\" style=\"height: auto; overflow: hidden; border: 1px solid #cfcfcf; border-radius: 2px; background: #f6fafa; line-height: 1.21429em; padding: 10px;\">\n",
       "                    <div class=\"item_left\" style=\"width: 210px; float: left;\">\n",
       "                       <a href='https://SLUSTL.maps.arcgis.com/home/group.html?id=35f0a6a434a3405595eabef8161b4174' target='_blank'>\n",
       "                        <img src='https://SLUSTL.maps.arcgis.com/home/images/group-no-image.png' class=\"itemThumbnail\">\n",
       "                       </a>\n",
       "                    </div>\n",
       "\n",
       "                    <div class=\"item_right\" style=\"float: none; width: auto; overflow: hidden;\">\n",
       "                        <a href='https://SLUSTL.maps.arcgis.com/home/group.html?id=35f0a6a434a3405595eabef8161b4174' target='_blank'><b>Remote Sensnig Lab</b>\n",
       "                        </a>\n",
       "                        <br/>\n",
       "                        <br/><b>Summary</b>: None\n",
       "                        <br/><b>Description</b>: None\n",
       "                        <br/><b>Owner</b>: ahmadaldalawi_slustl\n",
       "                        <br/><b>Created</b>: October 16, 2018\n",
       "\n",
       "                    </div>\n",
       "                </div>\n",
       "                "
      ],
      "text/plain": [
       "<Group title:\"Remote Sensnig Lab\" owner:ahmadaldalawi_slustl>"
      ]
     },
     "execution_count": 37,
     "metadata": {},
     "output_type": "execute_result"
    }
   ],
   "source": [
    "student_group"
   ]
  },
  {
   "cell_type": "code",
   "execution_count": 52,
   "metadata": {},
   "outputs": [
    {
     "data": {
      "text/plain": [
       "'35f0a6a434a3405595eabef8161b4174'"
      ]
     },
     "execution_count": 52,
     "metadata": {},
     "output_type": "execute_result"
    }
   ],
   "source": [
    "student_group.id"
   ]
  },
  {
   "cell_type": "code",
   "execution_count": null,
   "metadata": {},
   "outputs": [],
   "source": []
  }
 ],
 "metadata": {
  "kernelspec": {
   "display_name": "Python 3",
   "language": "python",
   "name": "python3"
  },
  "language_info": {
   "codemirror_mode": {
    "name": "ipython",
    "version": 3
   },
   "file_extension": ".py",
   "mimetype": "text/x-python",
   "name": "python",
   "nbconvert_exporter": "python",
   "pygments_lexer": "ipython3",
   "version": "3.6.5"
  }
 },
 "nbformat": 4,
 "nbformat_minor": 2
}
